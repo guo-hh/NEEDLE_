{
 "cells": [
  {
   "cell_type": "markdown",
   "metadata": {},
   "source": [
    "##### Test creating Tensor"
   ]
  },
  {
   "cell_type": "code",
   "execution_count": 2,
   "metadata": {},
   "outputs": [
    {
     "name": "stdout",
     "output_type": "stream",
     "text": [
      "using numpy backend\n",
      "rand shape: (2, 3, 4)\n",
      "[[[1. 0. 0. 0.]\n",
      "  [0. 1. 0. 1.]\n",
      "  [0. 0. 1. 1.]]\n",
      "\n",
      " [[0. 0. 0. 1.]\n",
      "  [0. 1. 0. 0.]\n",
      "  [0. 0. 0. 0.]]]\n"
     ]
    }
   ],
   "source": [
    "import sys\n",
    "sys.path.append('./python')\n",
    "import needle as ndl\n",
    "import numpy as np\n",
    "from needle.init import randb,one_hot\n",
    "\n",
    "array = ndl.rand(2,3,4)\n",
    "\n",
    "tensor = randb(2,3,4)\n",
    "i = ndl.Tensor([[1,2,3],[2,3,4]])\n",
    "\n",
    "one_hot = one_hot(10, i)\n",
    "print(tensor)"
   ]
  },
  {
   "cell_type": "markdown",
   "metadata": {},
   "source": [
    "##### Test Op and autograd"
   ]
  },
  {
   "cell_type": "markdown",
   "metadata": {},
   "source": [
    "test add"
   ]
  },
  {
   "cell_type": "code",
   "execution_count": 2,
   "metadata": {},
   "outputs": [
    {
     "name": "stdout",
     "output_type": "stream",
     "text": [
      "using numpy backend\n",
      "(3,)\n"
     ]
    }
   ],
   "source": [
    "import sys\n",
    "sys.path.append('./python')\n",
    "import needle as ndl\n",
    "import numpy as np\n",
    "tensor1 = ndl.ones(3, requires_grad = True)\n",
    "tensor2 = ndl.Tensor([2,3,4])\n",
    "res = tensor1 + tensor2\n",
    "print(res.shape)\n",
    "scalar = 10.0"
   ]
  },
  {
   "cell_type": "markdown",
   "metadata": {},
   "source": [
    "test sub mul power and div"
   ]
  },
  {
   "cell_type": "code",
   "execution_count": 3,
   "metadata": {},
   "outputs": [
    {
     "name": "stdout",
     "output_type": "stream",
     "text": [
      "[-9. -9. -9.]\n",
      "[10. 10. 10.]\n",
      "[1.024000e+03 5.904900e+04 1.048576e+06]\n",
      "[0.1 0.1 0.1]\n"
     ]
    }
   ],
   "source": [
    "res = tensor1 - scalar\n",
    "print(res)\n",
    "res2 = tensor1 * scalar\n",
    "print(res2)\n",
    "res3 = tensor2 ** scalar\n",
    "print(res3)\n",
    "res4 = tensor1 / scalar\n",
    "print(res4)"
   ]
  },
  {
   "cell_type": "markdown",
   "metadata": {},
   "source": [
    "test **sum broadcast_to transpose and reshape**"
   ]
  },
  {
   "cell_type": "code",
   "execution_count": 12,
   "metadata": {},
   "outputs": [
    {
     "name": "stdout",
     "output_type": "stream",
     "text": [
      "rand shape: (2, 3, 4)\n",
      "[2.1483262 2.8686392 3.3586063 4.083393 ]\n",
      "[[[1. 1. 1. 1.]\n",
      "  [1. 1. 1. 1.]\n",
      "  [1. 1. 1. 1.]]\n",
      "\n",
      " [[1. 1. 1. 1.]\n",
      "  [1. 1. 1. 1.]\n",
      "  [1. 1. 1. 1.]]]\n"
     ]
    }
   ],
   "source": [
    "# tensor = ndl.rand(2,3,4,requires_grad=True)\n",
    "# sum_ = tensor.sum(axes=(0,1))\n",
    "# print(sum_)\n",
    "# sum_.backward()\n",
    "# print(tensor.grad)"
   ]
  },
  {
   "cell_type": "markdown",
   "metadata": {},
   "source": [
    "test **matmul**"
   ]
  },
  {
   "cell_type": "code",
   "execution_count": 4,
   "metadata": {},
   "outputs": [
    {
     "name": "stdout",
     "output_type": "stream",
     "text": [
      "rand shape: (3, 4)\n",
      "rand shape: (4, 5)\n",
      "(3, 5)\n"
     ]
    }
   ],
   "source": [
    "tensor3 = ndl.rand(3,4)\n",
    "tensor4 = ndl.rand(4,5)\n",
    "res = tensor3 @ tensor4\n",
    "print(res.shape)"
   ]
  },
  {
   "cell_type": "markdown",
   "metadata": {},
   "source": [
    "#### question 以及面试官可能问到的question？\n",
    "\n",
    "\n",
    "#### 写代码过程中遇到的困难以及如何解决的？\n"
   ]
  },
  {
   "cell_type": "code",
   "execution_count": 8,
   "metadata": {},
   "outputs": [
    {
     "name": "stdout",
     "output_type": "stream",
     "text": [
      "torch.Size([2, 2, 3, 4])\n"
     ]
    }
   ],
   "source": [
    "import torch\n",
    "\n",
    "tensor1 = torch.rand(2,3,4)\n",
    "tensor2 = torch.rand(2,3,4)\n",
    "tensor3 = torch.stack((tensor1, tensor2))\n",
    "print(tensor3.shape)"
   ]
  },
  {
   "cell_type": "code",
   "execution_count": 4,
   "metadata": {},
   "outputs": [
    {
     "name": "stdout",
     "output_type": "stream",
     "text": [
      "6\n"
     ]
    }
   ],
   "source": []
  }
 ],
 "metadata": {
  "kernelspec": {
   "display_name": "needle",
   "language": "python",
   "name": "python3"
  },
  "language_info": {
   "codemirror_mode": {
    "name": "ipython",
    "version": 3
   },
   "file_extension": ".py",
   "mimetype": "text/x-python",
   "name": "python",
   "nbconvert_exporter": "python",
   "pygments_lexer": "ipython3",
   "version": "3.8.10"
  }
 },
 "nbformat": 4,
 "nbformat_minor": 2
}
